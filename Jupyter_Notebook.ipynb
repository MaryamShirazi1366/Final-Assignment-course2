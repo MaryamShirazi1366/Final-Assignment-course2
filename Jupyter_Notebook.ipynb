{
  "metadata": {
    "kernelspec": {
      "name": "python",
      "display_name": "Pyolite",
      "language": "python"
    },
    "language_info": {
      "codemirror_mode": {
        "name": "python",
        "version": 3
      },
      "file_extension": ".py",
      "mimetype": "text/x-python",
      "name": "python",
      "nbconvert_exporter": "python",
      "pygments_lexer": "ipython3",
      "version": "3.8"
    }
  },
  "nbformat_minor": 4,
  "nbformat": 4,
  "cells": [
    {
      "cell_type": "markdown",
      "source": "<center>\n    <img src=\"https://cf-courses-data.s3.us.cloud-object-storage.appdomain.cloud/IBMDeveloperSkillsNetwork-DS0105EN-SkillsNetwork/labs/Module2/images/SN_web_lightmode.png\" width=\"300\" alt=\"cognitiveclass.ai logo\"  />\n</center>\n",
      "metadata": {}
    },
    {
      "cell_type": "markdown",
      "source": "#### Add your code below following the instructions given in the course\n",
      "metadata": {}
    },
    {
      "cell_type": "markdown",
      "source": "# \"My Jupyter Notebook on IBM Watson Studio\"\n            \n            ",
      "metadata": {}
    },
    {
      "cell_type": "markdown",
      "source": "**Maryam Shirazi** \n\n**Data Analyst**",
      "metadata": {}
    },
    {
      "cell_type": "markdown",
      "source": "_I'm interested in Data Science because it enables me to understand data ,work on it and analyse it to solve the problems or analyze situations to make the best decision._",
      "metadata": {}
    },
    {
      "cell_type": "markdown",
      "source": "### The next cell will calculate if I have job offer with earning 67k $ in a year , what would be my income in a month  ",
      "metadata": {}
    },
    {
      "cell_type": "code",
      "source": "import math                #importing math for math.ceil() function (rounding up).\nJobOffer =67000            # yearly income in CAD\nMonths =12                 # Months     \nMonthlyIncome = math.ceil(JobOffer/Months) # counting the fee\nprint('My Monthly income would be ',MonthlyIncome,'$.') # output the values.",
      "metadata": {
        "trusted": true
      },
      "execution_count": 4,
      "outputs": [
        {
          "name": "stdout",
          "text": "My Monthly income would be  5584 $.\n",
          "output_type": "stream"
        }
      ]
    },
    {
      "cell_type": "markdown",
      "source": "Here's our logo (hover to see the title text):\n\n![alt text](https://github.com/adam-p/markdown-here/raw/master/src/common/images/icon1024-monochrome.png \"Logo Title Text 1\")\n\nThis is `a test` that `shows` I can do syntax hoghlighting.\n\n[A markdown cheat sheet](https://github.com/adam-p/markdown-here/wiki/Markdown-Cheatsheet#links)",
      "metadata": {}
    },
    {
      "cell_type": "markdown",
      "source": "",
      "metadata": {}
    },
    {
      "cell_type": "code",
      "source": "",
      "metadata": {},
      "execution_count": null,
      "outputs": []
    }
  ]
}